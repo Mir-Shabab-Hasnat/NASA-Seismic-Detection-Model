{
 "cells": [
  {
   "cell_type": "markdown",
   "metadata": {},
   "source": []
  },
  {
   "cell_type": "code",
   "execution_count": 1,
   "metadata": {},
   "outputs": [],
   "source": [
    "# Import libraries\n",
    "import numpy as np\n",
    "import pandas as pd\n",
    "\n",
    "from datetime import datetime, timedelta\n",
    "import matplotlib.pyplot as plt\n",
    "import os"
   ]
  },
  {
   "cell_type": "code",
   "execution_count": 2,
   "metadata": {},
   "outputs": [],
   "source": [
    "catalog_lunar_dir = \"../data/lunar/data/training/catalogs/apollo12_catalog_GradeA_final.csv\"\n",
    "\n",
    "catalog_lunar = pd.read_csv(catalog_lunar_dir)\n",
    "\n",
    "catalog_lunar\n",
    "\n",
    "row_num = 45"
   ]
  },
  {
   "cell_type": "code",
   "execution_count": 3,
   "metadata": {},
   "outputs": [
    {
     "data": {
      "text/plain": [
       "Index(['filename', 'time_abs(%Y-%m-%dT%H:%M:%S.%f)', 'time_rel(sec)', 'evid',\n",
       "       'mq_type'],\n",
       "      dtype='object')"
      ]
     },
     "execution_count": 3,
     "metadata": {},
     "output_type": "execute_result"
    }
   ],
   "source": [
    "catalog_lunar.columns"
   ]
  },
  {
   "cell_type": "code",
   "execution_count": 4,
   "metadata": {},
   "outputs": [
    {
     "data": {
      "text/plain": [
       "filename                          xa.s12.00.mhz.1973-03-13HR00_evid00094\n",
       "time_abs(%Y-%m-%dT%H:%M:%S.%f)                1973-03-13T08:01:00.000000\n",
       "time_rel(sec)                                                    28860.0\n",
       "evid                                                           evid00094\n",
       "mq_type                                                       shallow_mq\n",
       "Name: 45, dtype: object"
      ]
     },
     "execution_count": 4,
     "metadata": {},
     "output_type": "execute_result"
    }
   ],
   "source": [
    "row = catalog_lunar.iloc[row_num]\n",
    "row"
   ]
  },
  {
   "cell_type": "code",
   "execution_count": 5,
   "metadata": {},
   "outputs": [
    {
     "data": {
      "text/plain": [
       "datetime.datetime(1973, 3, 13, 8, 1)"
      ]
     },
     "execution_count": 5,
     "metadata": {},
     "output_type": "execute_result"
    }
   ],
   "source": [
    "arrival_time = datetime.strptime(row[\"time_abs(%Y-%m-%dT%H:%M:%S.%f)\"], '%Y-%m-%dT%H:%M:%S.%f')\n",
    "arrival_time"
   ]
  },
  {
   "cell_type": "code",
   "execution_count": 6,
   "metadata": {},
   "outputs": [
    {
     "data": {
      "text/plain": [
       "28860.0"
      ]
     },
     "execution_count": 6,
     "metadata": {},
     "output_type": "execute_result"
    }
   ],
   "source": [
    "arrival_time_relative = row[\"time_rel(sec)\"]\n",
    "arrival_time_relative"
   ]
  },
  {
   "cell_type": "code",
   "execution_count": 7,
   "metadata": {},
   "outputs": [
    {
     "data": {
      "text/plain": [
       "'xa.s12.00.mhz.1973-03-13HR00_evid00094'"
      ]
     },
     "execution_count": 7,
     "metadata": {},
     "output_type": "execute_result"
    }
   ],
   "source": [
    "test_filename = row.filename\n",
    "test_filename"
   ]
  },
  {
   "cell_type": "code",
   "execution_count": 8,
   "metadata": {},
   "outputs": [],
   "source": [
    "data_dir = \"../data/lunar/data/training/data/Processed/\"\n",
    "csv_file = f'{data_dir}{test_filename}.csv'"
   ]
  },
  {
   "cell_type": "code",
   "execution_count": 9,
   "metadata": {},
   "outputs": [
    {
     "data": {
      "text/html": [
       "<div>\n",
       "<style scoped>\n",
       "    .dataframe tbody tr th:only-of-type {\n",
       "        vertical-align: middle;\n",
       "    }\n",
       "\n",
       "    .dataframe tbody tr th {\n",
       "        vertical-align: top;\n",
       "    }\n",
       "\n",
       "    .dataframe thead th {\n",
       "        text-align: right;\n",
       "    }\n",
       "</style>\n",
       "<table border=\"1\" class=\"dataframe\">\n",
       "  <thead>\n",
       "    <tr style=\"text-align: right;\">\n",
       "      <th></th>\n",
       "      <th>time_abs(%Y-%m-%dT%H:%M:%S.%f)</th>\n",
       "      <th>time_rel(sec)</th>\n",
       "      <th>velocity(m/s)</th>\n",
       "    </tr>\n",
       "  </thead>\n",
       "  <tbody>\n",
       "    <tr>\n",
       "      <th>0</th>\n",
       "      <td>1973</td>\n",
       "      <td>0.000000</td>\n",
       "      <td>0.0</td>\n",
       "    </tr>\n",
       "    <tr>\n",
       "      <th>1</th>\n",
       "      <td>1973</td>\n",
       "      <td>0.150943</td>\n",
       "      <td>0.0</td>\n",
       "    </tr>\n",
       "    <tr>\n",
       "      <th>2</th>\n",
       "      <td>1973</td>\n",
       "      <td>0.301887</td>\n",
       "      <td>0.0</td>\n",
       "    </tr>\n",
       "    <tr>\n",
       "      <th>3</th>\n",
       "      <td>1973</td>\n",
       "      <td>0.452830</td>\n",
       "      <td>0.0</td>\n",
       "    </tr>\n",
       "    <tr>\n",
       "      <th>4</th>\n",
       "      <td>1973</td>\n",
       "      <td>0.603774</td>\n",
       "      <td>0.0</td>\n",
       "    </tr>\n",
       "    <tr>\n",
       "      <th>...</th>\n",
       "      <td>...</td>\n",
       "      <td>...</td>\n",
       "      <td>...</td>\n",
       "    </tr>\n",
       "    <tr>\n",
       "      <th>342373</th>\n",
       "      <td>1973</td>\n",
       "      <td>51678.943396</td>\n",
       "      <td>0.0</td>\n",
       "    </tr>\n",
       "    <tr>\n",
       "      <th>342374</th>\n",
       "      <td>1973</td>\n",
       "      <td>51679.094340</td>\n",
       "      <td>0.0</td>\n",
       "    </tr>\n",
       "    <tr>\n",
       "      <th>342375</th>\n",
       "      <td>1973</td>\n",
       "      <td>51679.245283</td>\n",
       "      <td>0.0</td>\n",
       "    </tr>\n",
       "    <tr>\n",
       "      <th>342376</th>\n",
       "      <td>1973</td>\n",
       "      <td>51679.396226</td>\n",
       "      <td>0.0</td>\n",
       "    </tr>\n",
       "    <tr>\n",
       "      <th>342377</th>\n",
       "      <td>1973</td>\n",
       "      <td>51679.547170</td>\n",
       "      <td>0.0</td>\n",
       "    </tr>\n",
       "  </tbody>\n",
       "</table>\n",
       "<p>342378 rows × 3 columns</p>\n",
       "</div>"
      ],
      "text/plain": [
       "        time_abs(%Y-%m-%dT%H:%M:%S.%f)  time_rel(sec)  velocity(m/s)\n",
       "0                                 1973       0.000000            0.0\n",
       "1                                 1973       0.150943            0.0\n",
       "2                                 1973       0.301887            0.0\n",
       "3                                 1973       0.452830            0.0\n",
       "4                                 1973       0.603774            0.0\n",
       "...                                ...            ...            ...\n",
       "342373                            1973   51678.943396            0.0\n",
       "342374                            1973   51679.094340            0.0\n",
       "342375                            1973   51679.245283            0.0\n",
       "342376                            1973   51679.396226            0.0\n",
       "342377                            1973   51679.547170            0.0\n",
       "\n",
       "[342378 rows x 3 columns]"
      ]
     },
     "execution_count": 9,
     "metadata": {},
     "output_type": "execute_result"
    }
   ],
   "source": [
    "data_catalog = pd.read_csv(csv_file)\n",
    "data_catalog"
   ]
  },
  {
   "cell_type": "code",
   "execution_count": 10,
   "metadata": {},
   "outputs": [
    {
     "data": {
      "text/plain": [
       "<matplotlib.legend.Legend at 0x24c8b8375c0>"
      ]
     },
     "execution_count": 10,
     "metadata": {},
     "output_type": "execute_result"
    },
    {
     "data": {
      "image/png": "[encoded data removed]",
      "text/plain": [
       "<Figure size 1000x300 with 1 Axes>"
      ]
     },
     "metadata": {},
     "output_type": "display_data"
    }
   ],
   "source": [
    "csv_times = np.array(data_catalog[\"time_rel(sec)\"].tolist())\n",
    "csv_velocity = np.array(data_catalog[\"velocity(m/s)\"].tolist())\n",
    "\n",
    "# Plot the trace!\n",
    "fig,ax = plt.subplots(1,1,figsize=(10,3))\n",
    "ax.plot(csv_times,csv_velocity)\n",
    "# Make the plot pretty\n",
    "ax.set_xlim([min(csv_times),max(csv_times)])\n",
    "ax.set_ylabel('Velocity (m/s)')\n",
    "ax.set_xlabel('Time (s)')\n",
    "ax.set_title(f'{test_filename}', fontweight='bold')\n",
    "# Plot where the arrival time is\n",
    "arrival_line = ax.axvline(x=arrival_time_relative, c='red', label='Rel. Arrival')\n",
    "ax.legend(handles=[arrival_line])"
   ]
  },
  {
   "cell_type": "markdown",
   "metadata": {},
   "source": [
    "Function"
   ]
  },
  {
   "cell_type": "code",
   "execution_count": 11,
   "metadata": {},
   "outputs": [
    {
     "data": {
      "image/png": "[encoded data removed]",
      "text/plain": [
       "<Figure size 1000x300 with 1 Axes>"
      ]
     },
     "metadata": {},
     "output_type": "display_data"
    }
   ],
   "source": [
    "\n",
    "catalog_lunar_dir = \"../data/lunar/data/training/catalogs/apollo12_catalog_GradeA_final.csv\"\n",
    "data_dir = \"../data/lunar/data/training/data/Processed/\"\n",
    "row_num = row_num\n",
    "\n",
    "def plot_catalogued_data(catalog_dir, data_dir, row_num):\n",
    "    catalog_lunar = pd.read_csv(catalog_lunar_dir)\n",
    "    row = catalog_lunar.iloc[row_num]\n",
    "    arrival_time_relative = row[\"time_rel(sec)\"]\n",
    "    test_filename = row.filename\n",
    "    csv_file = f'{data_dir}{test_filename}.csv'\n",
    "    data_catalog = pd.read_csv(csv_file)\n",
    "\n",
    "    csv_times = np.array(data_catalog[\"time_rel(sec)\"].tolist())\n",
    "    csv_velocity = np.array(data_catalog[\"velocity(m/s)\"].tolist())\n",
    "\n",
    "    # Plot the trace!\n",
    "    fig,ax = plt.subplots(1,1,figsize=(10,3))\n",
    "    ax.plot(csv_times,csv_velocity)\n",
    "    # Make the plot pretty\n",
    "    ax.set_xlim([min(csv_times),max(csv_times)])\n",
    "    ax.set_ylabel('Velocity (m/s)')\n",
    "    ax.set_xlabel('Time (s)')\n",
    "    ax.set_title(f'{test_filename}', fontweight='bold')\n",
    "    # Plot where the arrival time is\n",
    "    arrival_line = ax.axvline(x=arrival_time_relative, c='red', label='Rel. Arrival')\n",
    "    ax.legend(handles=[arrival_line])\n",
    "\n",
    "    \n",
    "\n",
    "\n",
    "plot_catalogued_data(catalog_lunar_dir, data_dir, row_num)\n"
   ]
  },
  {
   "cell_type": "code",
   "execution_count": 12,
   "metadata": {},
   "outputs": [
    {
     "data": {
      "text/plain": [
       "'xa.s12.00.mhz.1973-03-13HR00_evid00094'"
      ]
     },
     "execution_count": 12,
     "metadata": {},
     "output_type": "execute_result"
    }
   ],
   "source": [
    "test_filename = row.filename\n",
    "test_filename"
   ]
  },
  {
   "cell_type": "markdown",
   "metadata": {},
   "source": [
    "Function to Plot according to chunk"
   ]
  },
  {
   "cell_type": "code",
   "execution_count": 13,
   "metadata": {},
   "outputs": [],
   "source": [
    "def plot_chunk(chunk):\n",
    "    csv_times = np.array(chunk[\"time_rel(sec)\"].tolist())\n",
    "    csv_velocities = np.array(chunk[\"velocity(m/s)\"].tolist())\n",
    "\n",
    "    # Plot the trace!\n",
    "    fig,ax = plt.subplots(1,1,figsize=(10,3))\n",
    "    ax.plot(csv_times,csv_velocities)\n",
    "    # Make the plot pretty\n",
    "    ax.set_xlim([min(csv_times),max(csv_times)])\n",
    "    ax.set_ylabel('Velocity (m/s)')\n",
    "    ax.set_xlabel('Time (s)')\n",
    "    \n",
    "    "
   ]
  }
 ],
 "metadata": {
  "kernelspec": {
   "display_name": "base",
   "language": "python",
   "name": "python3"
  },
  "language_info": {
   "codemirror_mode": {
    "name": "ipython",
    "version": 3
   },
   "file_extension": ".py",
   "mimetype": "text/x-python",
   "name": "python",
   "nbconvert_exporter": "python",
   "pygments_lexer": "ipython3",
   "version": "3.12.4"
  }
 },
 "nbformat": 4,
 "nbformat_minor": 2
}
